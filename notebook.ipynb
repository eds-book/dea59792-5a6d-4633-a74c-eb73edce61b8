{
 "cells": [
  {
   "cell_type": "markdown",
   "metadata": {},
   "source": [
    "# Vehicle-based observation data processing and simple simulation experiments"
   ]
  },
  {
   "cell_type": "markdown",
   "metadata": {},
   "source": [
    "## Context\n",
    "### Purpose\n",
    "This notebook demonstrates our general workflow for processing vehicle-based methane observation data and performing preliminary source identification.\n",
    "\n",
    "### Description\n",
    "This notebook uses two data files: data1.csv comes from measurements taken during vehicle movement, while data2.csv comes from measurements taken at a fixed vehicle location. This is to fully demonstrate the processing methods used in different cases. These data are all from our actual field observations, but please note that we have modified the latitude and longitude information to comply with legal requirements, which may cause some offset in the drawings.\n",
    "\n",
    "### Highlights\n",
    "* Visualisation to explore vehicle-based observation data.\n",
    "* Analyse the synchronisation of measurement signals.\n",
    "* Use simulation experiments to understand the source of measurement signals.\n",
    "* Use simulation experiments to break down measurement signals and obtain regional baseline values.\n",
    "\n",
    "## Load libraries"
   ]
  },
  {
   "cell_type": "code",
   "execution_count": null,
   "metadata": {
    "ExecuteTime": {
     "end_time": "2025-06-29T08:59:44.132637Z",
     "start_time": "2025-06-29T08:59:42.896350Z"
    },
    "collapsed": false,
    "jupyter": {
     "outputs_hidden": false
    }
   },
   "outputs": [],
   "source": [
    "#system\n",
    "import os\n",
    "import warnings\n",
    "warnings.filterwarnings(action='ignore')\n",
    "\n",
    "from IPython.display import display\n",
    "\n",
    "#visualisation\n",
    "import folium\n",
    "from folium.plugins import HeatMap\n",
    "import matplotlib.pyplot as plt\n",
    "\n",
    "#data analysis\n",
    "import numpy as np\n",
    "import pandas as pd\n",
    "from sklearn.metrics import mean_absolute_error, mean_squared_error\n",
    "from scipy.signal import coherence, welch\n",
    "\n",
    "from function.help import geo_to_local, moving_average\n",
    "from function.gaussian_plume import gaussian_plume, inverse_gaussian_plume"
   ]
  },
  {
   "cell_type": "markdown",
   "metadata": {},
   "source": [
    "## Load data\n",
    "\n",
    "Load data files. data1.csv is from a mobile observation process that captured methane emissions from a motorway service area. data2.csv is from a fixed observation process that measured methane and ethane emissions from a natural gas station downwind."
   ]
  },
  {
   "cell_type": "code",
   "execution_count": null,
   "metadata": {
    "ExecuteTime": {
     "end_time": "2025-06-29T08:59:44.166837Z",
     "start_time": "2025-06-29T08:59:44.156551Z"
    }
   },
   "outputs": [],
   "source": [
    "df1 = pd.read_csv('data1.csv', sep =',')\n",
    "df1"
   ]
  },
  {
   "cell_type": "code",
   "execution_count": null,
   "metadata": {
    "ExecuteTime": {
     "end_time": "2025-06-29T08:59:44.421871Z",
     "start_time": "2025-06-29T08:59:44.415004Z"
    }
   },
   "outputs": [],
   "source": [
    "df2 = pd.read_csv('data2.csv', sep =',')\n",
    "df2"
   ]
  },
  {
   "cell_type": "markdown",
   "metadata": {},
   "source": [
    "In addition, we will set some parameters to define the Gaussian plume model and perform unit conversions.\n",
    "\n",
    "|        |                                 |        |             |\n",
    "|:------:|:-------------------------------:|:------:|:-----------:|\n",
    "|     u  |           wind speed            | M_PER_DEG | Distance per degree |\n",
    "| Ry / ry / Rz / rz | Gaussian plume model parameters |     T  |     Temperature |\n",
    "|         P |      Atmospheric pressure       |     M  |     Molar mass |\n",
    "|         R |     universal gas constant      |        |             |\n",
    "\n",
    "Note: These parameters should be set separately for each simulation experiment based on meteorological measurements, but since this data is regulated information, we used uniform values, which may affect the results of subsequent experiments.\n",
    "\n",
    "$$\n",
    "c(x, y, z) = \\frac{q}{2 \\pi \\bar{u} R_{y} x^{r_y} R_{z} x^{r_z}} \\exp \\left(-\\frac{y^2}{2\\left(R_{y} x^{r_y}\\right)^2}\\right)\\left[\\exp \\left(-\\frac{(z-h)^2}{2\\left(R_{z} x^{r_z}\\right)^2}\\right) +\\exp \\left(-\\frac{(z+h)^2}{2\\left(R_{z} x^{r_z}\\right)^2}\\right)\\right]\n",
    "$$"
   ]
  },
  {
   "cell_type": "code",
   "execution_count": null,
   "metadata": {
    "ExecuteTime": {
     "end_time": "2025-06-29T08:59:44.733492Z",
     "start_time": "2025-06-29T08:59:44.728525Z"
    },
    "collapsed": false,
    "jupyter": {
     "outputs_hidden": false
    }
   },
   "outputs": [],
   "source": [
    "u = 3         # wind speed (m/s)\n",
    "Ry, ry = 0.469, 0.903 #Horizontal diffusion parameter\n",
    "Rz, rz = 0.017, 1.380 #Vertical diffusion parameter\n",
    "\n",
    "M_PER_DEG = 111320 # m\n",
    "\n",
    "T = 298.15       # (K)\n",
    "P = 101325       # (Pa)\n",
    "M = 0.016        # (kg/mol) — CH₄\n",
    "M_C2H6 = 0.03007 # (kg/mol) — C2H6\n",
    "R = 8.314        # (J/mol·K)"
   ]
  },
  {
   "cell_type": "markdown",
   "metadata": {},
   "source": [
    "## Mobile observation\n",
    "Mobile measurement is the most common form of vehicle-based measurement, whereby a vehicle equipped with instruments moves along a road and attempts to capture signals generated by nearby emission sources, which typically manifest as small peaks on a smooth baseline.\n",
    "\n",
    "### Visualisation\n",
    "\n",
    "Plot methane measurement signals in sequence."
   ]
  },
  {
   "cell_type": "code",
   "execution_count": null,
   "metadata": {
    "ExecuteTime": {
     "end_time": "2025-06-29T08:59:45.168338Z",
     "start_time": "2025-06-29T08:59:45.017228Z"
    }
   },
   "outputs": [],
   "source": [
    "df1 = df1.dropna(subset=['CH4'])  # Filter out entire rows where CH4 is NaN.\n",
    "\n",
    "lat = df1['lat'].values\n",
    "lon = df1['lon'].values\n",
    "CH4 = df1['CH4'].values\n",
    "\n",
    "fig, ax = plt.subplots(figsize=(12, 5))\n",
    "\n",
    "color = 'blue'\n",
    "ax.set_xlabel('Index')\n",
    "ax.set_ylabel('CH₄ (ppb)', color=color)\n",
    "ax.plot(CH4, color=color, label='CH₄')\n",
    "ax.tick_params(axis='y', labelcolor=color)\n",
    "ax.grid(True)\n",
    "\n",
    "ax.legend(loc='upper right')\n",
    "plt.title('CH₄ Concentration')\n",
    "plt.tight_layout()\n",
    "plt.show()"
   ]
  },
  {
   "cell_type": "markdown",
   "metadata": {},
   "source": [
    "This is a typical case where the peak on the baseline can be clearly seen. Next, we can plot the measurement signal on a map to explore where this signal might come from."
   ]
  },
  {
   "cell_type": "code",
   "execution_count": null,
   "metadata": {
    "ExecuteTime": {
     "end_time": "2025-06-29T08:59:45.216872Z",
     "start_time": "2025-06-29T08:59:45.206625Z"
    }
   },
   "outputs": [],
   "source": [
    "ref_lat = np.mean(lat)\n",
    "ref_lon = np.mean(lon)\n",
    "\n",
    "min_lat = np.min(lat)\n",
    "max_lat = np.max(lat)\n",
    "min_lon = np.min(lon)\n",
    "max_lon = np.max(lon)\n",
    "\n",
    "vmin = np.nanmin(CH4)\n",
    "vmax = np.nanmax(CH4)\n",
    "q1 = vmin + (vmax - vmin) * 0.25\n",
    "q2 = vmin + (vmax - vmin) * 0.50\n",
    "q3 = vmin + (vmax - vmin) * 0.75\n",
    "\n",
    "heat_data = [[lat_, lon_, ch4_val] for lat_, lon_, ch4_val in zip(lat, lon, CH4) if not np.isnan(ch4_val)]\n",
    "\n",
    "m = folium.Map(location=[ref_lat, ref_lon], zoom_start=13, tiles='cartodbpositron')\n",
    "\n",
    "HeatMap(\n",
    "    heat_data,\n",
    "    radius=15,\n",
    "    blur=25,\n",
    "    min_opacity=0.3,\n",
    "    gradient={\n",
    "        0.00: 'blue',\n",
    "        0.25: 'cyan',\n",
    "        0.50: 'lime',\n",
    "        0.75: 'yellow',\n",
    "        1.00: 'red'\n",
    "    },\n",
    ").add_to(m)\n",
    "\n",
    "# legend\n",
    "legend_html = f'''\n",
    "<div style=\"\n",
    "    position: fixed;\n",
    "    bottom: 50px; left: 50px; width: 200px; height: 150px;\n",
    "    background-color: white;\n",
    "    border:2px solid grey;\n",
    "    z-index:9999;\n",
    "    font-size:14px;\n",
    "    padding: 10px;\n",
    "\">\n",
    "    <i style=\"background:blue;opacity:0.6;width:20px;height:20px;display:inline-block;\"></i> < {q1:.1f} ppb<br>\n",
    "    <i style=\"background:cyan;opacity:0.6;width:20px;height:20px;display:inline-block;\"></i> {q1:.1f}–{q2:.1f} ppb<br>\n",
    "    <i style=\"background:lime;opacity:0.6;width:20px;height:20px;display:inline-block;\"></i> {q2:.1f}–{q3:.1f} ppb<br>\n",
    "    <i style=\"background:yellow;opacity:0.6;width:20px;height:20px;display:inline-block;\"></i> {q3:.1f}–{vmax:.1f} ppb<br>\n",
    "    <i style=\"background:red;opacity:0.6;width:20px;height:20px;display:inline-block;\"></i> > {vmax:.1f} ppb\n",
    "</div>\n",
    "'''\n",
    "\n",
    "m.get_root().html.add_child(folium.Element(legend_html))\n",
    "\n",
    "display(m)"
   ]
  },
  {
   "cell_type": "markdown",
   "metadata": {},
   "source": [
    "By combining satellite images and location information, we can tentatively determine that this signal originated from a service area along the motorway.\n",
    "\n",
    "### Simulation experiment\n",
    "\n",
    "A very obvious problem with mobile observations is that plumes at these locations often receive stronger interference. One strategy is to process the measurement sequence using low quantile values within the grid.\n",
    "\n",
    "In this example, we will use the 5th percentile value in a 500m grid."
   ]
  },
  {
   "cell_type": "code",
   "execution_count": null,
   "metadata": {
    "ExecuteTime": {
     "end_time": "2025-06-29T08:59:45.418357Z",
     "start_time": "2025-06-29T08:59:45.274456Z"
    }
   },
   "outputs": [],
   "source": [
    "GRID_SIZE_M = 500         # Grid size (m)\n",
    "QUANTILE = 0.05           # Quantile\n",
    "\n",
    "# Reference point (domain centre point)\n",
    "ref_lat = np.mean(lat)\n",
    "ref_lon = np.mean(lon)\n",
    "\n",
    "x, y = geo_to_local(lat, lon, ref_lat, ref_lon, M_PER_DEG)\n",
    "\n",
    "ix = np.floor(x / GRID_SIZE_M).astype(int)\n",
    "iy = np.floor(y / GRID_SIZE_M).astype(int)\n",
    "grid_ids = list(zip(ix, iy))\n",
    "\n",
    "grid_q10 = {}\n",
    "grid_centers = {}\n",
    "for gid in set(grid_ids):\n",
    "    indices = [i for i, g in enumerate(grid_ids) if g == gid]\n",
    "    if indices:\n",
    "        grid_q10[gid] = np.quantile(CH4[indices], QUANTILE)\n",
    "        grid_centers[gid] = (\n",
    "            (gid[0] + 0.5) * GRID_SIZE_M,\n",
    "            (gid[1] + 0.5) * GRID_SIZE_M\n",
    "        )\n",
    "\n",
    "grid_q_vals = np.array([grid_q10.get(gid, np.nan) for gid in grid_ids])\n",
    "CH4_detrended = CH4 - grid_q_vals\n",
    "\n",
    "# Smooth Detrended CH₄\n",
    "CH4_detrended_smooth = moving_average(CH4_detrended, 10)\n",
    "smooth_indices = np.arange(len(CH4_detrended_smooth)) + 5  # 对齐中心位置\n",
    "\n",
    "plt.figure(figsize=(12, 5))\n",
    "ax1 = plt.gca()\n",
    "\n",
    "line1 = ax1.plot(CH4, label='Original CH₄', color='blue')\n",
    "line3 = ax1.plot(grid_q_vals, label='Grid 5% Quantile', color='orange', linestyle=':')\n",
    "ax1.set_ylabel('CH₄ (ppb)', color='blue')\n",
    "ax1.tick_params(axis='y', labelcolor='blue')\n",
    "\n",
    "ax2 = ax1.twinx()\n",
    "line2 = ax2.plot(CH4_detrended, label='Detrended CH₄', color='red', alpha=0.6)\n",
    "line4 = ax2.plot(smooth_indices, CH4_detrended_smooth, label='Smoothed Detrended (w=10)', color='darkred', linestyle='--')\n",
    "ax2.set_ylabel('Detrended CH₄ (ppb)', color='red')\n",
    "ax2.tick_params(axis='y', labelcolor='red')\n",
    "\n",
    "lines = line1 + line3 + line2 + line4\n",
    "labels = [l.get_label() for l in lines]\n",
    "ax1.legend(lines, labels, loc='upper right')\n",
    "\n",
    "plt.xlabel('Sample Index')\n",
    "plt.title('CH₄ Raw, Quantile, Detrended and Smoothed Detrended (Dual Y-Axis)')\n",
    "plt.grid(True)\n",
    "plt.tight_layout()\n",
    "plt.show()"
   ]
  },
  {
   "cell_type": "markdown",
   "metadata": {},
   "source": [
    "As can be seen, the processed sequence retains the peaks and remains aligned with the original sequence, while the smoothed sequence is more consistent with our physical intuition.\n",
    "\n",
    "We can also project the quantile values onto a map to see if any areas have values that are significantly higher than others."
   ]
  },
  {
   "cell_type": "code",
   "execution_count": null,
   "metadata": {
    "ExecuteTime": {
     "end_time": "2025-06-29T08:59:45.491048Z",
     "start_time": "2025-06-29T08:59:45.469355Z"
    }
   },
   "outputs": [],
   "source": [
    "m = folium.Map(location=[ref_lat, ref_lon], zoom_start=13, tiles='cartodbpositron')\n",
    "\n",
    "for gid, (cx, cy) in grid_centers.items():\n",
    "    qval = grid_q10[gid]\n",
    "\n",
    "    x0 = (gid[0]) * GRID_SIZE_M\n",
    "    y0 = (gid[1]) * GRID_SIZE_M\n",
    "    x1 = x0 + GRID_SIZE_M\n",
    "    y1 = y0 + GRID_SIZE_M\n",
    "\n",
    "    lat0, lon0 = ref_lat + y0 / M_PER_DEG, ref_lon + x0 / (M_PER_DEG * np.cos(np.radians(ref_lat)))\n",
    "    lat1, lon1 = ref_lat + y1 / M_PER_DEG, ref_lon + x1 / (M_PER_DEG * np.cos(np.radians(ref_lat)))\n",
    "    latc, lonc = ref_lat + cy / M_PER_DEG, ref_lon + cx / (M_PER_DEG * np.cos(np.radians(ref_lat)))\n",
    "\n",
    "    folium.Rectangle(\n",
    "        bounds=[(lat0, lon0), (lat1, lon1)],\n",
    "        color='black',\n",
    "        weight=1,\n",
    "        fill=False\n",
    "    ).add_to(m)\n",
    "\n",
    "    folium.Marker(\n",
    "        location=[latc, lonc],\n",
    "        popup=f'{qval:.1f} ppb',\n",
    "        icon=folium.DivIcon(html=f'<div style=\"font-size: 10px; color: darkgreen;\">{qval:.1f}</div>')\n",
    "    ).add_to(m)\n",
    "\n",
    "display(m)"
   ]
  },
  {
   "cell_type": "markdown",
   "metadata": {},
   "source": [
    "Next, we can run simulation experiments using the new concentration sequence as a benchmark to verify whether the source originates from a specific location or direction."
   ]
  },
  {
   "cell_type": "code",
   "execution_count": null,
   "metadata": {
    "ExecuteTime": {
     "end_time": "2025-06-29T08:59:45.721809Z",
     "start_time": "2025-06-29T08:59:45.621292Z"
    }
   },
   "outputs": [],
   "source": [
    "# wind direction\n",
    "wind_deg = 90.00  # North is 0 degrees, rotate clockwise\n",
    "\n",
    "# If you want to expand to multiple sources, you can add them directly here.\n",
    "sources = [\n",
    "    (27.064591, 112.460118, 200),\n",
    "]\n",
    "\n",
    "min_lat, max_lat = lat.min(), lat.max()\n",
    "min_lon, max_lon = lon.min(), lon.max()\n",
    "\n",
    "ref_lat = np.mean(lat)\n",
    "ref_lon = np.mean(lon)\n",
    "\n",
    "# Convert the origin to local xy coordinates\n",
    "sources_lat = [s[0] for s in sources]\n",
    "sources_lon = [s[1] for s in sources]\n",
    "sources_q = np.array([s[2] for s in sources])\n",
    "sources_x, sources_y = geo_to_local(sources_lat, sources_lon, ref_lat, ref_lon, M_PER_DEG)\n",
    "\n",
    "sample_x, sample_y = geo_to_local(lat, lon, ref_lat, ref_lon, M_PER_DEG)\n",
    "\n",
    "sim_CH4 = gaussian_plume(\n",
    "    sample_x, sample_y,\n",
    "    sources_x, sources_y, sources_q,\n",
    "    u, Ry, ry, Rz, rz, wind_deg,\n",
    "    T, P, M, R\n",
    ")\n",
    "\n",
    "fig, ax1 = plt.subplots(figsize=(12, 4))\n",
    "\n",
    "ax1.plot(CH4_detrended_smooth, label='Smoothed CH₄_detrended', color='blue')\n",
    "ax1.plot(CH4_detrended, label='CH₄ detrended', color='green', linestyle='--')\n",
    "ax1.plot(sim_CH4, label='Simulated CH₄', color='red', linestyle='--')\n",
    "ax1.set_ylabel('CH₄ Concentration (ppb)')\n",
    "ax1.set_title('Smoothed Detrended CH₄ vs Simulated CH₄')\n",
    "ax1.legend()\n",
    "ax1.grid(True)\n",
    "\n",
    "plt.tight_layout()\n",
    "plt.show()"
   ]
  },
  {
   "cell_type": "markdown",
   "metadata": {},
   "source": [
    "It can be seen that similar plumes can indeed be generated from this service area."
   ]
  },
  {
   "cell_type": "code",
   "execution_count": null,
   "metadata": {
    "ExecuteTime": {
     "end_time": "2025-06-29T08:59:45.745833Z",
     "start_time": "2025-06-29T08:59:45.741182Z"
    }
   },
   "outputs": [],
   "source": [
    "MAE = mean_absolute_error(CH4_detrended, sim_CH4)\n",
    "RMSE = np.sqrt(mean_squared_error(CH4_detrended, sim_CH4))\n",
    "print(f\"MAE: {MAE:.2f}, RMSE: {RMSE:.2f}\")"
   ]
  },
  {
   "cell_type": "markdown",
   "metadata": {},
   "source": [
    "The values of MAE and RMSE are relatively high because the simulation cannot be strictly aligned spatially.\n",
    "\n",
    "## Fixed observation\n",
    "\n",
    "Some locations are clearly strong sources of methane emissions, such as natural gas stations or livestock farms. In addition, they often emit other gases in conjunction with methane, such as ethane or nitrous oxide. When concerned about the emission intensity of these locations, we conduct active measurements downwind.\n",
    "\n",
    "The sample data in this section comes from measurements taken at natural gas stations.\n",
    "\n",
    "### Visualisation\n",
    "\n",
    "Since natural gas stations emit both methane and ethane, plot both of these observation data."
   ]
  },
  {
   "cell_type": "code",
   "execution_count": null,
   "metadata": {
    "ExecuteTime": {
     "end_time": "2025-06-29T08:59:45.948241Z",
     "start_time": "2025-06-29T08:59:45.796442Z"
    },
    "collapsed": false,
    "jupyter": {
     "outputs_hidden": false
    }
   },
   "outputs": [],
   "source": [
    "df2 = df2.dropna(subset=['CH4'])  # Filter out entire rows where CH4 is NaN.\n",
    "\n",
    "CH4 = df2['CH4'].values\n",
    "C2H6 = df2['C2H6'].values\n",
    "\n",
    "CH4 = CH4*1000 # ppm to ppb\n",
    "\n",
    "fig, ax1 = plt.subplots(figsize=(12, 5))\n",
    "\n",
    "color1 = 'blue'\n",
    "ax1.set_xlabel('Index')\n",
    "ax1.set_ylabel('CH4 (ppm)', color=color1)\n",
    "ax1.plot(CH4, color=color1, label='CH4')\n",
    "ax1.tick_params(axis='y', labelcolor=color1)\n",
    "ax1.grid(True)\n",
    "\n",
    "ax2 = ax1.twinx()  # Shared x-axis\n",
    "color2 = 'yellow'\n",
    "ax2.set_ylabel('C2H6 (ppb)', color=color2)\n",
    "ax2.plot(C2H6, color=color2, label='C2H6')\n",
    "ax2.tick_params(axis='y', labelcolor=color2)\n",
    "\n",
    "lines_1, labels_1 = ax1.get_legend_handles_labels()\n",
    "lines_2, labels_2 = ax2.get_legend_handles_labels()\n",
    "ax1.legend(lines_1 + lines_2, labels_1 + labels_2, loc='upper right')\n",
    "\n",
    "plt.title('')\n",
    "plt.tight_layout()\n",
    "plt.show()"
   ]
  },
  {
   "cell_type": "markdown",
   "metadata": {},
   "source": [
    "It can be seen that although the values are different, these two signals change almost synchronously. Furthermore, we can use coherence analysis and PSD to analyse these two signals."
   ]
  },
  {
   "cell_type": "code",
   "execution_count": null,
   "metadata": {
    "ExecuteTime": {
     "end_time": "2025-06-29T08:59:46.516580Z",
     "start_time": "2025-06-29T08:59:45.993944Z"
    }
   },
   "outputs": [],
   "source": [
    "Fs = 1  # Sampling frequency\n",
    "\n",
    "# Coherence\n",
    "f_coh, Cxy = coherence(CH4, C2H6, fs=Fs)\n",
    "\n",
    "# PSD\n",
    "f1, Pxx1 = welch(CH4, fs=Fs, nperseg=min(256, len(CH4)))\n",
    "f2, Pxx2 = welch(C2H6, fs=Fs, nperseg=min(256, len(C2H6)))\n",
    "\n",
    "fig1, ax_coh = plt.subplots(figsize=(10, 4))\n",
    "ax_coh.plot(f_coh, Cxy, label='Coherence', color='tab:blue')\n",
    "ax_coh.set_ylabel('Coherence')\n",
    "ax_coh.set_title('Coherence')\n",
    "ax_coh.legend()\n",
    "ax_coh.grid(True)\n",
    "ax_coh.set_xlabel('Frequency [Hz]')\n",
    "plt.tight_layout()\n",
    "plt.show()\n",
    "\n",
    "fig2, ax1 = plt.subplots(figsize=(10, 5))\n",
    "\n",
    "ax1.semilogy(f1, Pxx1, 'blue', label='CH₄')\n",
    "ax1.set_ylabel('Power spectral density')\n",
    "ax1.set_xlabel('Frequency [Hz]')\n",
    "ax1.tick_params(axis='y', labelcolor='blue')\n",
    "ax1.grid(True)\n",
    "\n",
    "ax2 = ax1.twinx()\n",
    "ax2.semilogy(f2, Pxx2, 'yellow', label='C₂H₆')\n",
    "ax2.tick_params(axis='y', labelcolor='yellow')\n",
    "\n",
    "plt.title('Power spectral density')\n",
    "lines_1, labels_1 = ax1.get_legend_handles_labels()\n",
    "lines_2, labels_2 = ax2.get_legend_handles_labels()\n",
    "ax1.legend(lines_1 + lines_2, labels_1 + labels_2, loc='upper right')\n",
    "\n",
    "plt.tight_layout()\n",
    "plt.show()"
   ]
  },
  {
   "cell_type": "markdown",
   "metadata": {},
   "source": [
    "Coherence measures the consistency between two signals, while PSD indicates the strength of the signal. It can be seen that in the strongest part of the signal, i.e. 0.0-0.2Hz, the coherence is close to 1, which means that the two signals are highly synchronised. This is also consistent with our knowledge of physics: the strongest signals, i.e. those coming from the source rather than baseline fluctuations, are highly consistent.\n",
    "\n",
    "This enables us to infer the methane source strength of natural gas stations based on ethane concentrations and further separate methane measurement signals.\n",
    "\n",
    "### Simulation experiment\n",
    "\n",
    "To calculate emissions from natural gas stations, we first need to run the Gaussian plume model in reverse to restore emissions from measured signals, and then determine the mass of methane emissions using ethane, a gas that is less abundant in the atmosphere."
   ]
  },
  {
   "cell_type": "code",
   "execution_count": null,
   "metadata": {
    "ExecuteTime": {
     "end_time": "2025-06-29T08:59:46.540654Z",
     "start_time": "2025-06-29T08:59:46.536326Z"
    }
   },
   "outputs": [],
   "source": [
    "source_lat, source_lon = 30.35328, 120.05509  # source location\n",
    "obs_lat, obs_lon = 30.35333, 120.05502        # observation location\n",
    "wind_deg = 45\n",
    "\n",
    "sample_x, sample_y = geo_to_local(obs_lat, obs_lon, source_lat, source_lon, M_PER_DEG)\n",
    "source_x, source_y = 0.0, 0.0  # source location as ref point"
   ]
  },
  {
   "cell_type": "markdown",
   "metadata": {},
   "source": [
    "Since ethane is a trace gas in the atmosphere, ethane is used as a reference to calculate methane emissions from natural gas stations. First, the measurement signal is differentiated to filter the baseline:\n",
    "\n",
    "$$\n",
    "\\Delta C_{\\mathrm{CH_4}}(t) = C_{\\mathrm{CH_4}}(t) - C_{\\mathrm{CH_4}}(t-1)\n",
    "$$\n",
    "\n",
    "$$\n",
    "\\Delta C_{\\mathrm{C_2H_6}}(t) = C_{\\mathrm{C_2H_6}}(t) - C_{\\mathrm{C_2H_6}}(t-1)\n",
    "$$"
   ]
  },
  {
   "cell_type": "code",
   "execution_count": null,
   "metadata": {
    "ExecuteTime": {
     "end_time": "2025-06-29T08:59:46.598389Z",
     "start_time": "2025-06-29T08:59:46.594686Z"
    }
   },
   "outputs": [],
   "source": [
    "d_CH4 = np.diff(CH4)\n",
    "d_C2H6 = np.diff(C2H6)"
   ]
  },
  {
   "cell_type": "markdown",
   "metadata": {},
   "source": [
    "By solving the Gaussian plume model in reverse, it is possible to restore the emission mass change sequence from the differential sequence of the measured signal:\n",
    "\n",
    "$$\n",
    "Q = C(x, y, z) \\cdot \\left( 2\\pi u \\sigma_y \\sigma_z \\right) \\cdot \\exp\\left( \\frac{y^2}{2\\sigma_y^2} \\right)\n",
    "\\Big/\n",
    "\\left[\n",
    "\\exp\\left( -\\frac{(z - H)^2}{2\\sigma_z^2} \\right) +\n",
    "\\exp\\left( -\\frac{(z + H)^2}{2\\sigma_z^2} \\right)\n",
    "\\right]\n",
    "$$\n",
    "\n",
    "$$\n",
    "\\Delta Q_{\\mathrm{CH_4}}(t) = \\mathcal{G}^{-1} \\left( \\Delta C_{\\mathrm{CH_4}}(t) \\right)\n",
    "$$\n",
    "\n",
    "$$\n",
    "\\Delta Q_{\\mathrm{C_2H_6}}(t) = \\mathcal{G}^{-1} \\left( \\Delta C_{\\mathrm{C_2H_6}}(t) \\right)\n",
    "$$"
   ]
  },
  {
   "cell_type": "code",
   "execution_count": null,
   "metadata": {
    "ExecuteTime": {
     "end_time": "2025-06-29T08:59:46.658484Z",
     "start_time": "2025-06-29T08:59:46.634753Z"
    }
   },
   "outputs": [],
   "source": [
    "q_d_CH4_series = []\n",
    "q_d_C2H6_series = []\n",
    "\n",
    "for i in range(len(d_CH4)):\n",
    "    q_d_CH4 = inverse_gaussian_plume(\n",
    "        sample_x, sample_y,\n",
    "        source_x, source_y,\n",
    "        d_CH4[i], u, Ry, ry, Rz, rz, wind_deg, T, P, M, R\n",
    "    )\n",
    "    q_d_C2H6 = inverse_gaussian_plume(\n",
    "        sample_x, sample_y,\n",
    "        source_x, source_y,\n",
    "        d_C2H6[i], u, Ry, ry, Rz, rz, wind_deg, T, P, M_C2H6, R\n",
    "    )\n",
    "    q_d_CH4_series.append(q_d_CH4)\n",
    "    q_d_C2H6_series.append(q_d_C2H6)\n",
    "\n",
    "q_C2H6_series = []\n",
    "\n",
    "for i in range(len(CH4)):\n",
    "    q_C2H6 = inverse_gaussian_plume(\n",
    "        sample_x, sample_y,\n",
    "        source_x, source_y,\n",
    "        C2H6[i], u, Ry, ry, Rz, rz, wind_deg, T, P, M_C2H6, R\n",
    "    )\n",
    "    q_C2H6_series.append(q_C2H6)\n",
    "\n",
    "window = 10\n",
    "ma_C2H6 = moving_average(q_d_C2H6_series, window)\n",
    "ma_CH4  = moving_average(q_d_CH4_series, window)\n",
    "\n",
    "d_C2H6 = np.abs(np.diff(ma_C2H6))\n",
    "d_CH4  = np.abs(np.diff(ma_CH4))"
   ]
  },
  {
   "cell_type": "markdown",
   "metadata": {},
   "source": [
    "By solving for the proportion of emission changes, we can obtain the proportion of methane and ethane in the emissions from natural gas stations:\n",
    "\n",
    "$$\n",
    "R(t) = \\frac{ \\Delta Q_{\\mathrm{C_2H_6}}(t) }{ \\Delta Q_{\\mathrm{CH_4}}(t) }\n",
    "$$"
   ]
  },
  {
   "cell_type": "code",
   "execution_count": null,
   "metadata": {
    "ExecuteTime": {
     "end_time": "2025-06-29T08:59:46.707307Z",
     "start_time": "2025-06-29T08:59:46.704870Z"
    }
   },
   "outputs": [],
   "source": [
    "ratio = d_CH4 / d_C2H6\n",
    "ma_ratio = moving_average(ratio, window)"
   ]
  },
  {
   "cell_type": "code",
   "execution_count": null,
   "metadata": {
    "ExecuteTime": {
     "end_time": "2025-06-29T08:59:46.967319Z",
     "start_time": "2025-06-29T08:59:46.748376Z"
    }
   },
   "outputs": [],
   "source": [
    "fig, (ax1, ax2) = plt.subplots(2, 1, figsize=(12, 8), sharex=True)\n",
    "\n",
    "ax1.plot(d_CH4, label='ΔCH₄', color='blue')\n",
    "ax1.set_ylabel('ΔCH₄', color='blue')\n",
    "ax1.tick_params(axis='y', labelcolor='blue')\n",
    "ax1.grid(True)\n",
    "ax1.set_title('ΔCH₄ vs ΔC₂H₆')\n",
    "\n",
    "ax1b = ax1.twinx()\n",
    "ax1b.plot(d_C2H6, label='ΔC₂H₆', color='yellow')\n",
    "ax1b.set_ylabel('ΔC₂H₆', color='yellow')\n",
    "ax1b.tick_params(axis='y', labelcolor='yellow')\n",
    "\n",
    "ax2.plot(ma_ratio, label='ΔCH₄ / ΔC₂H₆', color='purple')\n",
    "ax2.set_ylabel('Ratio')\n",
    "ax2.set_xlabel('Index')\n",
    "ax2.axvline(350, linestyle='--', linewidth=1.5, label=f'{ma_ratio[350]:.2f}')\n",
    "ax2.legend()\n",
    "ax2.grid(True)\n",
    "ax2.set_title('ΔCH₄ / ΔC₂H₆')\n",
    "\n",
    "plt.tight_layout()\n",
    "plt.show()"
   ]
  },
  {
   "cell_type": "markdown",
   "metadata": {},
   "source": [
    "It can be seen that the parts of the differential sequence ratio that fluctuate dramatically, such as index 800-1000, correspond to parts with very low values in both the differential sequence and the original sequence. This means that this part of the signal actually comes from disturbances in the baseline and surrounding air, rather than from the plume of the natural gas station.\n",
    "\n",
    "Here, we use the ratio at index 350, 14.56 as the ratio. However, please note that this value is affected by both the window length and the selection position."
   ]
  },
  {
   "cell_type": "code",
   "execution_count": null,
   "metadata": {
    "ExecuteTime": {
     "end_time": "2025-06-29T08:59:47.219918Z",
     "start_time": "2025-06-29T08:59:46.993234Z"
    }
   },
   "outputs": [],
   "source": [
    "q_CH4_series = np.array(q_C2H6_series) * ma_ratio[350]\n",
    "\n",
    "sim_CH4 = []\n",
    "for q in q_CH4_series:\n",
    "    c = gaussian_plume(\n",
    "        np.array([sample_x]),\n",
    "        np.array([sample_y]),\n",
    "        [source_x],\n",
    "        [source_y],\n",
    "        [q],\n",
    "        u, Ry, ry, Rz, rz, wind_deg,\n",
    "        T, P, M, R\n",
    "    )\n",
    "    sim_CH4.append(c[0])\n",
    "\n",
    "sim_CH4 = np.array(sim_CH4)\n",
    "\n",
    "residual = CH4 - sim_CH4\n",
    "\n",
    "fig, (ax1, ax2) = plt.subplots(2, 1, figsize=(12, 8), sharex=True)\n",
    "\n",
    "ax1.plot(CH4, label='Observation', color='blue')\n",
    "ax1.plot(sim_CH4, label='Simulation', color='red', linestyle='--')\n",
    "ax1.set_ylabel('CH₄ Concentration (ppb)')\n",
    "#ax1.set_title('Observed vs Simulated CH₄')\n",
    "ax1.legend()\n",
    "ax1.grid(True)\n",
    "\n",
    "ax2.plot(residual, label='Residual (Observed - Simulated)', color='green')\n",
    "ax2.set_ylabel('Residual (ppb)')\n",
    "ax2.set_xlabel('Sample Index')\n",
    "#ax2.set_title('Residual between Observed and Simulated CH₄')\n",
    "ax2.legend()\n",
    "ax2.grid(True)\n",
    "\n",
    "plt.tight_layout()\n",
    "plt.show()"
   ]
  },
  {
   "cell_type": "markdown",
   "metadata": {},
   "source": [
    "It can be seen that the simulation accurately reproduces the changes in the methane curve and obtains a baseline of approximately 1820. This strategy is more effective when dealing with sources of different natures. It is easy to imagine that if there is another source of a different nature nearby, it will produce a peak similar to Example 1 in the residual plot."
   ]
  },
  {
   "cell_type": "markdown",
   "metadata": {},
   "source": [
    "## Summary\n",
    "This notebook describes our general workflow for processing vehicle-based observation data, specifically:\n",
    "\n",
    "* Used `matplotlib` and `folium` to plot and explore vehicle-based observation data.\n",
    "* Used `numpy` to establish a Gaussian plume model for simulation experiments.\n",
    "* Used `scipy` to test the relationship between signals.\n",
    "* Run simulation experiments to verify whether the signal comes from a possible source, or to separate the regional baseline from the signal."
   ]
  },
  {
   "cell_type": "markdown",
   "metadata": {},
   "source": [
    "## Citing this Notebook\n",
    "\n",
    "Please see [CITATION.cff](https://github.com/eds-book/dea59792-5a6d-4633-a74c-eb73edce61b8/blob/main/CITATION.cff) for the full citation information. The citation file can be exported to APA or BibTex formats (learn more [here](https://docs.github.com/en/repositories/managing-your-repositorys-settings-and-features/customizing-your-repository/about-citation-files))."
   ]
  },
  {
   "cell_type": "markdown",
   "metadata": {},
   "source": [
    "## Additional information\n",
    "**Dataset**: The data used in this notebook comes from our measurements, which are part of a more extensive dataset that we are preparing for a data article.\n",
    "\n",
    "**Contact**: If you have any suggestion or report an issue with this notebook, feel free to [create an issue](https://github.com/alan-turing-institute/environmental-ds-book/issues/new/choose) or send a direct message to [environmental.ds.book@gmail.com](mailto:environmental.ds.book@gmail.com)."
   ]
  },
  {
   "cell_type": "code",
   "execution_count": null,
   "metadata": {
    "ExecuteTime": {
     "end_time": "2025-06-29T08:59:47.238621Z",
     "start_time": "2025-06-29T08:59:47.232185Z"
    },
    "collapsed": false,
    "editable": true,
    "jupyter": {
     "outputs_hidden": false
    },
    "slideshow": {
     "slide_type": ""
    },
    "tags": [
     "remove-input"
    ]
   },
   "outputs": [],
   "source": [
    "from datetime import date\n",
    "\n",
    "print('Notebook repository version: v2025.09.3')\n",
    "print(f'Last tested: {date.today()}')"
   ]
  }
 ],
 "metadata": {
  "kernelspec": {
   "display_name": "Python 3 (ipykernel)",
   "language": "python",
   "name": "python3"
  },
  "language_info": {
   "codemirror_mode": {
    "name": "ipython",
    "version": 3
   },
   "file_extension": ".py",
   "mimetype": "text/x-python",
   "name": "python",
   "nbconvert_exporter": "python",
   "pygments_lexer": "ipython3",
   "version": "3.11.11"
  },
  "widgets": {
   "application/vnd.jupyter.widget-state+json": {
    "state": {},
    "version_major": 2,
    "version_minor": 0
   }
  }
 },
 "nbformat": 4,
 "nbformat_minor": 4
}
